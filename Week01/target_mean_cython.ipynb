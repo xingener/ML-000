{
  "nbformat": 4,
  "nbformat_minor": 0,
  "metadata": {
    "colab": {
      "name": "target_mean_cython.ipynb",
      "provenance": [],
      "collapsed_sections": []
    },
    "kernelspec": {
      "display_name": "Python 3",
      "name": "python3"
    }
  },
  "cells": [
    {
      "cell_type": "code",
      "metadata": {
        "id": "PrXMhlZ-91Rn"
      },
      "source": [
        "%load_ext Cython"
      ],
      "execution_count": 1,
      "outputs": []
    },
    {
      "cell_type": "code",
      "metadata": {
        "id": "mt_iWq62r4YK"
      },
      "source": [
        "import numpy as np\r\n",
        "import pandas as pd\r\n",
        "\r\n",
        "\r\n",
        "def target_mean_v1(data, y_name, x_name):\r\n",
        "    result = np.zeros(data.shape[0])\r\n",
        "    for i in range(data.shape[0]):\r\n",
        "        a = data[data.index != i].groupby([x_name], as_index=False)\r\n",
        "        groupby_result = data[data.index != i].groupby([x_name], as_index=False).agg(['mean', 'count'])\r\n",
        "        result[i] = groupby_result.loc[groupby_result.index == data.loc[i, x_name], (y_name, 'mean')]\r\n",
        "    return result\r\n",
        "\r\n",
        "\r\n",
        "def target_mean_v2(data, y_name, x_name):\r\n",
        "    result = np.zeros(data.shape[0])\r\n",
        "    value_dict = dict()\r\n",
        "    count_dict = dict()\r\n",
        "    for i in range(data.shape[0]):\r\n",
        "        if data.loc[i, x_name] not in value_dict.keys():\r\n",
        "            value_dict[data.loc[i, x_name]] = data.loc[i, y_name]\r\n",
        "            count_dict[data.loc[i, x_name]] = 1\r\n",
        "        else:\r\n",
        "            value_dict[data.loc[i, x_name]] += data.loc[i, y_name]\r\n",
        "            count_dict[data.loc[i, x_name]] += 1\r\n",
        "    for i in range(data.shape[0]):\r\n",
        "        result[i] = (value_dict[data.loc[i, x_name]] - data.loc[i, y_name]) / (count_dict[data.loc[i, x_name]] - 1)\r\n",
        "    return result\r\n"
      ],
      "execution_count": 2,
      "outputs": []
    },
    {
      "cell_type": "code",
      "metadata": {
        "id": "wXxZXUWw94HK"
      },
      "source": [
        "%%cython\r\n",
        "\r\n",
        "import numpy as np\r\n",
        "cimport numpy as cnp\r\n",
        "\r\n",
        "cpdef target_mean_cython(data, y_name, x_name):\r\n",
        "    result = np.zeros(data.shape[0])\r\n",
        "    cdef:\r\n",
        "        dict value_dict = {}\r\n",
        "        dict count_dict = {}\r\n",
        "        int i\r\n",
        "        int l = data.shape[0]\r\n",
        "        int x\r\n",
        "        int y\r\n",
        "        a_x = cnp.ndarray(shape = (l), buffer = np.array(data.loc[:, x_name]),\\\r\n",
        "                          dtype=np.int)\r\n",
        "        a_y = cnp.ndarray(shape = (l), buffer = np.array(data.loc[:, y_name]),\\\r\n",
        "                          dtype=np.int)\r\n",
        "\r\n",
        "    for i in range(l):\r\n",
        "        x = a_x[i]\r\n",
        "        y = a_y[i]\r\n",
        "        if x not in value_dict.keys():\r\n",
        "            value_dict[x] = y\r\n",
        "            count_dict[x] = 1\r\n",
        "        else:\r\n",
        "            value_dict[x] += y\r\n",
        "            count_dict[x] += 1\r\n",
        "    for i in range(l):\r\n",
        "        x = a_x[i]\r\n",
        "        y = a_y[i]\r\n",
        "        result[i] = (value_dict[x] - y) / (count_dict[x] - 1)\r\n",
        "    return result\r\n"
      ],
      "execution_count": 3,
      "outputs": []
    },
    {
      "cell_type": "code",
      "metadata": {
        "id": "CgGNI90Jsk-k"
      },
      "source": [
        "y = np.random.randint(2, size=(5000, 1))\r\n",
        "x = np.random.randint(10, size=(5000, 1))\r\n",
        "data = pd.DataFrame(np.concatenate([y, x], axis=1), columns=['y', 'x'])\r\n"
      ],
      "execution_count": 4,
      "outputs": []
    },
    {
      "cell_type": "code",
      "metadata": {
        "colab": {
          "base_uri": "https://localhost:8080/"
        },
        "id": "2JssC1v_cwsJ",
        "outputId": "1d10e882-6d4c-4a61-9e39-e50769c4c103"
      },
      "source": [
        "result_2 = target_mean_v2(data, 'y', 'x')\r\n",
        "result_c = target_mean_cython(data, 'y', 'x')\r\n",
        "diff = np.linalg.norm(result_c - result_2)\r\n",
        "print(diff)"
      ],
      "execution_count": 5,
      "outputs": [
        {
          "output_type": "stream",
          "text": [
            "0.0\n"
          ],
          "name": "stdout"
        }
      ]
    },
    {
      "cell_type": "code",
      "metadata": {
        "id": "ZPquBtO9s1zs"
      },
      "source": [
        "%%timeit\r\n",
        "result_1 = target_mean_v1(data, 'y', 'x')"
      ],
      "execution_count": 6,
      "outputs": []
    },
    {
      "cell_type": "code",
      "metadata": {
        "colab": {
          "base_uri": "https://localhost:8080/"
        },
        "id": "dK0e-Dlks3YI",
        "outputId": "e5a69161-d982-4e7f-ca07-2c7f9e024bba"
      },
      "source": [
        "%%timeit\r\n",
        "result_2 = target_mean_v2(data, 'y', 'x')"
      ],
      "execution_count": 7,
      "outputs": [
        {
          "output_type": "stream",
          "text": [
            "1 loop, best of 3: 288 ms per loop\n"
          ],
          "name": "stdout"
        }
      ]
    },
    {
      "cell_type": "code",
      "metadata": {
        "colab": {
          "base_uri": "https://localhost:8080/"
        },
        "id": "JcUCYLUPlp0-",
        "outputId": "18e42827-ec31-4b3d-e47d-95e1847e25b0"
      },
      "source": [
        "%%timeit\n",
        "result = target_mean_cython(data, 'y', 'x')"
      ],
      "execution_count": 8,
      "outputs": [
        {
          "output_type": "stream",
          "text": [
            "100 loops, best of 3: 4.62 ms per loop\n"
          ],
          "name": "stdout"
        }
      ]
    },
    {
      "cell_type": "code",
      "execution_count": null,
      "metadata": {},
      "outputs": [],
      "source": [
        "what"
      ]
    }
  ]
}